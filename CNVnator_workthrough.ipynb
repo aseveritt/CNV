{
 "cells": [
  {
   "cell_type": "markdown",
   "metadata": {},
   "source": [
    "Initial workflow through for CNVnator.  \n",
    "- Started 8/2/16\n",
    "- Amanda Everitt\n",
    "- cwd= /home/everitt/CNV/CNVnator"
   ]
  },
  {
   "cell_type": "code",
   "execution_count": 41,
   "metadata": {
    "collapsed": false
   },
   "outputs": [
    {
     "name": "stdout",
     "output_type": "stream",
     "text": [
      "../cyp_genomes/CNVnator/005_C_complete.bed,../cyp_genomes/CNVnator/02_SEL80.bam.cnv_output.filtered.bed,../cyp_genomes/CNVnator/02_SEL84.bam.cnv_output.filtered.bed,../cyp_genomes/CNVnator/02_SEL85.bam.cnv_output.filtered.bed,../cyp_genomes/CNVnator/04_SEL14.bam.cnv_output.filtered.bed,../cyp_genomes/CNVnator/04_SEL18.bam.cnv_output.filtered.bed,../cyp_genomes/CNVnator/04_SEL1.bam.cnv_output.filtered.bed,../cyp_genomes/CNVnator/04_SEL20.bam.cnv_output.filtered.bed,../cyp_genomes/CNVnator/04_SEL50.bam.cnv_output.filtered.bed,../cyp_genomes/CNVnator/04_SEL84.bam.cnv_output.filtered.bed,../cyp_genomes/CNVnator/04_SEL91.bam.cnv_output.filtered.bed,../cyp_genomes/CNVnator/10_SEL124.bam.cnv_output.filtered.bed,../cyp_genomes/CNVnator/10_SEL125.bam.cnv_output.filtered.bed,../cyp_genomes/CNVnator/10_SEL129.bam.cnv_output.filtered.bed,../cyp_genomes/CNVnator/10_SEL132.bam.cnv_output.filtered.bed,../cyp_genomes/CNVnator/10_SEL134.bam.cnv_output.filtered.bed,../cyp_genomes/CNVnator/10_SEL160.bam.cnv_output.filtered.bed,../cyp_genomes/CNVnator/10_SEL190.bam.cnv_output.filtered.bed,../cyp_genomes/CNVnator/12_SEL13.bam.cnv_output.filtered.bed,../cyp_genomes/CNVnator/12_SEL3.bam.cnv_output.filtered.bed,../cyp_genomes/CNVnator/12_SEL63.bam.cnv_output.filtered.bed,../cyp_genomes/CNVnator/12_SEL9.bam.cnv_output.filtered.bed,../cyp_genomes/CNVnator/test.bed,../cyp_genomes/CNVnator/test_positions.bed,"
     ]
    }
   ],
   "source": [
    "%%bash\n",
    "ls ../cyp_genomes/CNVnator/*.bed |tr '\\n' ','"
   ]
  },
  {
   "cell_type": "code",
   "execution_count": 17,
   "metadata": {
    "collapsed": false
   },
   "outputs": [
    {
     "name": "stdout",
     "output_type": "stream",
     "text": [
      "2012KELA210.bam\n",
      "2012KELA468.bam\n",
      "2012KELA233.bam\n",
      "2012KELA409.bam\n",
      "2012KELA285.bam\n",
      "2012KELA228.bam\n",
      "2012KELA812.bam\n",
      "2012KELA321.bam\n",
      "2012KELA334.bam\n",
      "2012KELA234.bam\n",
      "2012KELA210.bam.sh\n",
      "2012KELA348.bam\n"
     ]
    }
   ],
   "source": [
    "import os, subprocess\n",
    "\n",
    "os.chdir(\"/home/everitt/CNV/gambiae_genomes/\")\n",
    "for i in os.listdir():\n",
    "    print (i)\n",
    "    #os.chdir(\"../../gambiae_genomes/\")\n",
    "    sh_file = open(\"{}.sh\".format(i),\"w\")\n",
    "    #sh_file.write('#!/bin/bash \\n')\n",
    "    #sh_file.write('## \\n')\n",
    "    sh_file.write('/home/travc/bin/run_cnvnator.sh -root cyp{}.root -tree {} && '.format(i,i))\n",
    "    sh_file.write('/home/travc/bin/run_cnvnator.sh -root cyp{}.root -his 150 -d colony_CNV/ && '.format(i))\n",
    "    sh_file.write('/home/travc/bin/run_cnvnator.sh -root cyp{}.root -stat 150 && '.format(i))\n",
    "    sh_file.write('/home/travc/bin/run_cnvnator.sh -root cyp{}.root -partition 150 && '.format(i))\n",
    "    sh_file.write('/home/travc/bin/run_cnvnator.sh -root cyp{}.root -call 150 > {}.cnv_output \\n'.format(i,i))\n",
    "    sh_file.close()\n",
    "    \n",
    "#cat *.sh > all.sh\n",
    "#parallel --gnu --ungroup --nice 9 -a all.sh"
   ]
  },
  {
   "cell_type": "code",
   "execution_count": 29,
   "metadata": {
    "collapsed": false
   },
   "outputs": [],
   "source": [
    "#Keeps calls which are 1.mapped 2. significant 3. larger than 1KB\n",
    "import os\n",
    "\n",
    "os.chdir(\"/home/everitt/CNV/gambiae_genomes/CNVnator\")\n",
    "for i in os.listdir():\n",
    "    if i.endswith(\".cnv_output\"):\n",
    "        f= open(i,'r')\n",
    "        with open ('{}.filtered'.format(i),'w') as new:\n",
    "            with open('{}.filtered.bed'.format(i),'w') as bed:\n",
    "                for line in f:\n",
    "                    parts= line.split()\n",
    "                    if 'UNKN' not in parts[1] and 'Y_unplaced' not in parts[1] and 'chrMt' not in parts[1]: #if mapped\n",
    "                        if float(parts[3]) < 0.05: # if evalue is less than 0.05 (https://www.biostars.org/p/194936/)\n",
    "                            pos = parts[1].split(':')\n",
    "                            coordinates= (pos[1]).split('-')\n",
    "                            bp = int(coordinates[1])- int(coordinates[0])\n",
    "                            if bp >= 1000:\n",
    "                                new.write(line)\n",
    "                                bed.write(str((pos[0][-2:])) + '\\t' + coordinates[0] + '\\t' + coordinates[1] + '\\n')"
   ]
  },
  {
   "cell_type": "code",
   "execution_count": 36,
   "metadata": {
    "collapsed": false
   },
   "outputs": [],
   "source": [
    "%%bash\n",
    "\n",
    "#to get list of all possible positions\n",
    "\n",
    "#cyp\n",
    "cd /home/everitt/CNV/cyp_genomes/CNVnator/\n",
    "cat *.bed | sort > 01_all_C_pos\n",
    "\n",
    "#cyp vs gambiae\n",
    "cat /home/everitt/CNV/cyp_genomes/CNVnator/01_all_C_pos /home/everitt/CNV/gambiae_genomes/CNVnator/*.bed > 001_all_CG_pos\n",
    "\n",
    "#gambiae vs post-cyp\n",
    "cat /home/everitt/CNV/gambiae_genomes/CNVnator/001_all_G_pos 10_SEL124.bam.cnv_output.filtered.bed \\\n",
    "    10_SEL125.bam.cnv_output.filtered.bed 10_SEL129.bam.cnv_output.filtered.bed \\\n",
    "    10_SEL132.bam.cnv_output.filtered.bed 10_SEL134.bam.cnv_output.filtered.bed \\\n",
    "    10_SEL160.bam.cnv_output.filtered.bed 10_SEL190.bam.cnv_output.filtered.bed \\\n",
    "    12_SEL13.bam.cnv_output.filtered.bed 12_SEL3.bam.cnv_output.filtered.bed \\\n",
    "    12_SEL63.bam.cnv_output.filtered.bed 12_SEL9.bam.cnv_output.filtered.bed > 001_postCG_pos\n",
    "    "
   ]
  },
  {
   "cell_type": "code",
   "execution_count": null,
   "metadata": {
    "collapsed": true
   },
   "outputs": [],
   "source": [
    "%%bash\n",
    "#to get intersections between them -v to find unique -c to find amt overlap -wa -wb to see which overlap\n",
    "\n",
    "#cyp to cyp\n",
    "/home/everitt/bin/bedtools2/bin/intersectBed -wa -wb \\\n",
    "    -r \\\n",
    "    -f 0.5 \\\n",
    "    -a /home/everitt/CNV/cyp_genomes/CNVnator/001_all_C_pos \\\n",
    "    -b /home/everitt/CNV/cyp_genomes/CNVnator/001_all_C_pos\\\n",
    "    -filenames > 002_C_overlap\n",
    "    \n",
    "#cyp to gambaie\n",
    "/home/everitt/bin/bedtools2/bin/intersectBed -wa -wb \\\n",
    "    -r \\\n",
    "    -f 0.5 \\\n",
    "    -a /home/everitt/CNV/gambiae_genomes/CNVnator/001_all_CG_pos \\\n",
    "    -b /home/everitt/CNV/gambiae_genomes/CNVnator/001_all_CG_pos\\\n",
    "    -filenames > 002_CG_overlap\n",
    "    \n",
    "#gambiae to post-cyp\n",
    "/home/everitt/bin/bedtools2/bin/intersectBed -wa -wb \\\n",
    "    -r \\\n",
    "    -f 0.5 \\\n",
    "    -a /home/everitt/CNV/gambiae_genomes/CNVnator/001_postCG_pos \\\n",
    "    -b /home/everitt/CNV/gambiae_genomes/CNVnator/001_postCG_pos\\\n",
    "    -filenames > 002_postCG_overlap"
   ]
  },
  {
   "cell_type": "code",
   "execution_count": 1,
   "metadata": {
    "collapsed": false
   },
   "outputs": [
    {
     "name": "stdout",
     "output_type": "stream",
     "text": [
      "...printing...\n"
     ]
    }
   ],
   "source": [
    "pos_list=[]\n",
    "deleted_list=[]\n",
    "kept_list = []\n",
    "with open('/home/everitt/CNV/gambiae_genomes/CNVnator/002_postCG_overlap') as overlap:\n",
    "    with open('/home/everitt/CNV/gambiae_genomes/CNVnator/001_postCG_pos') as allpos:\n",
    "        for line in allpos:\n",
    "            line = line.split()\n",
    "            pos_list.append(line[0]+':'+line[1]+':'+line[2])\n",
    "        for line in overlap:\n",
    "            line = line.split()\n",
    "            query = line[0]+':'+line[1]+':'+line[2]\n",
    "            mappedto = line[3]+':'+line[4]+':'+line[5]\n",
    "            if query not in deleted_list and query != mappedto: #if its not already deleted or mapping back to itself\n",
    "                #because if its already been deleted- it means it mapped above somewhere and now it will delete the ORIGINAL kept call\n",
    "                deleted_list.append(mappedto) #make a list of everything that has been deleted\n",
    "                if query not in kept_list: #new one we need to keep\n",
    "                    kept_list.append(query)\n",
    "            elif query not in deleted_list and query not in kept_list and query == mappedto:\n",
    "                kept_list.append(query)\n",
    "print ('...printing...')\n",
    "with open('/home/everitt/CNV/gambiae_genomes/CNVnator/003_postCG_ref_pos','w') as newfile:\n",
    "    for item in kept_list:\n",
    "        items = item.split(':')\n",
    "        newfile.write(items[0]+'\\t'+items[1]+'\\t'+items[2]+'\\n')"
   ]
  },
  {
   "cell_type": "code",
   "execution_count": 54,
   "metadata": {
    "collapsed": false
   },
   "outputs": [
    {
     "name": "stdout",
     "output_type": "stream",
     "text": [
      "2L\t1016101\t1042800\t1\n",
      "2L\t10303501\t10307400\t1\n",
      "2L\t104101\t106050\t1\n",
      "2L\t1050001\t1051050\t1\n",
      "2L\t1069801\t1070850\t1\n",
      "2L\t1112101\t1125600\t1\n",
      "2L\t1131001\t1132950\t1\n",
      "2L\t1176451\t1178550\t1\n",
      "2L\t1181851\t1185150\t1\n",
      "2L\t1194901\t1198650\t1\n"
     ]
    }
   ],
   "source": [
    "%%bash \n",
    "#double check work above to make sure everything only mapped once (to itself)\n",
    "/home/everitt/bin/bedtools2/bin/intersectBed -c \\\n",
    "    -r \\\n",
    "    -f 0.5 \\\n",
    "    -a /home/everitt/CNV/cyp_genomes/CNVnator/003_C_ref_pos \\\n",
    "    -b /home/everitt/CNV/cyp_genomes/CNVnator/003_C_ref_pos \\\n",
    "    -filenames > mistakes\n",
    "head mistakes\n",
    "\n",
    "/home/everitt/bin/bedtools2/bin/intersectBed -c \\\n",
    "    -r \\\n",
    "    -f 0.5 \\\n",
    "    -a /home/everitt/CNV/gambiae_genomes/CNVnator/003_CG_ref_pos \\\n",
    "    -b /home/everitt/CNV/gambiae_genomes/CNVnator/003_CG_ref_pos \\\n",
    "    -filenames > CGmistakes\n",
    "head CGmistakes\n",
    "\n",
    "/home/everitt/bin/bedtools2/bin/intersectBed -c \\\n",
    "    -r \\\n",
    "    -f 0.5 \\\n",
    "    -a /home/everitt/CNV/gambiae_genomes/CNVnator/003_postCG_ref_pos \\\n",
    "    -b /home/everitt/CNV/gambiae_genomes/CNVnator/003_postCG_ref_pos \\\n",
    "    -filenames > postCGmistakes\n",
    "head postCGmistakes"
   ]
  },
  {
   "cell_type": "code",
   "execution_count": 58,
   "metadata": {
    "collapsed": false
   },
   "outputs": [],
   "source": [
    "%%bash\n",
    "#in command line (so correct dir and on screen, ran:)\n",
    "#cyp v cyp\n",
    "/home/everitt/bin/bedtools2/bin/intersectBed -wa -wb \\\n",
    "    -r   \\\n",
    "    -f 0.5 \\\n",
    "    -a /home/everitt/CNV/cyp_genomes/CNVnator/003_C_ref_pos \\\n",
    "    -b *.filtered.bed \\\n",
    "    -filenames > 004_C_intersect\n",
    "\n",
    "#cyp v gambiae\n",
    "/home/everitt/bin/bedtools2/bin/intersectBed -wa -wb \\\n",
    "    -r   \\\n",
    "    -f 0.5 \\\n",
    "    -a /home/everitt/CNV/gambiae_genomes/CNVnator/003_CG_ref_pos \\\n",
    "    -b *.filtered.bed \\\n",
    "    -filenames > 004_CG_intersect\n",
    "    #copied all cyp bed files into gambiae directory for this part and then removed them. just fYI\n",
    "\n",
    "#post cyp vs gambiae\n",
    "/home/everitt/bin/bedtools2/bin/intersectBed -wa -wb \\\n",
    "    -r   \\\n",
    "    -f 0.5 \\\n",
    "    -a /home/everitt/CNV/gambiae_genomes/CNVnator/003_postCG_ref_pos \\\n",
    "    -b *.filtered.bed \\\n",
    "    -filenames > 004_postCG_intersect\n",
    "    #copied post 06 cyp bed files into gambiae directory for this part and then removed them. just fYI"
   ]
  },
  {
   "cell_type": "code",
   "execution_count": 2,
   "metadata": {
    "collapsed": false
   },
   "outputs": [],
   "source": [
    "#make main file\n",
    "\n",
    "def make_file(intersect_file, header, main_file):\n",
    "    import pandas as pd\n",
    "    index = {}\n",
    "    with open(intersect_file) as intersect:\n",
    "        for line in intersect:\n",
    "                lines= line.split()\n",
    "                ID= lines[0]+ ':' + lines[1] + ':' + lines[2] #make uniqueID\n",
    "                index.setdefault(ID, []).append((lines[3])[:-24]) #populate index dict as {[ID:[filename,filename]], [ID2:[]]}\n",
    "        df = pd.DataFrame(columns= header) #set columns as headers given\n",
    "        count = 0\n",
    "        for key,value in index.items():    #key= ID, value = all the files mapped there\n",
    "            pos= key.split(':')\n",
    "            l ={}  #dict of new line to be printed\n",
    "            l['chr'] = pos[0]\n",
    "            l['start'] = pos[1]\n",
    "            l['stop'] = pos[2]   \n",
    "            j=0\n",
    "            while j < len(value): #while there is still files in this positions\n",
    "                l[value[j]] = 1   #l at header present =1\n",
    "                j+=1\n",
    "            df.loc[key] = pd.Series(l)   #populate dataframe with dict 'l'\n",
    "            count +=1\n",
    "    df = df.fillna(0)        #want binary, so 0s not NaN\n",
    "    df.to_csv(main_file, sep='\\t',header=True)\n",
    "    return (index)\n",
    "\n",
    "def find_pre_v_post_Fst(index,total_pre,total_post):\n",
    "    fst_dict = {}\n",
    "    count = 0\n",
    "    for key,value in index.items():\n",
    "        called_pre = 0\n",
    "        called_post = 0\n",
    "        for i in value: #for every file that mapped to this position\n",
    "            i = i.split('_')\n",
    "            if int(i[0]) < 6: # if before 2006\n",
    "                called_pre += 1\n",
    "            else:\n",
    "                called_post += 1\n",
    "        PREp_freq = called_pre/total_pre\n",
    "        PREq_freq = 1-PREp_freq\n",
    "        \n",
    "        POSTp_freq = called_post/total_post\n",
    "        POSTq_freq = 1- POSTp_freq\n",
    "    \n",
    "        PRE_2pq = 2*PREp_freq*PREq_freq #heterozygosity (2pq) for each subpop\n",
    "        POST_2pq = 2*POSTp_freq*POSTq_freq #ex 2 * (3/11) *(11-3/10)\n",
    "        \n",
    "        HS = (PRE_2pq + POST_2pq)/2 # average of these subpopulation heterozygosities\n",
    "        ave_p = (PREp_freq+POSTp_freq)/2\n",
    "        ave_q = (PREq_freq+POSTq_freq)/2\n",
    "        HT = 2*ave_p*ave_q\n",
    "        if HT != 0:\n",
    "            FST = ((HT-HS)/HT)\n",
    "            fst_dict[key] = FST\n",
    "        else:\n",
    "            fst_dict[key] = 0\n",
    "    return (fst_dict)\n",
    "\n",
    "def find_cyp_v_gambiae_FST(index,total_cyp,total_gam):\n",
    "    fst_dict = {}\n",
    "    count = 0\n",
    "    for key,value in index.items():\n",
    "        called_cyp=0\n",
    "        called_gam =0\n",
    "        for i in value:\n",
    "            if '2012' in i: #if gambiae\n",
    "                called_gam +=1\n",
    "            elif '2012' not in i: #if cyp\n",
    "                called_cyp +=1\n",
    "        Cp_freq = called_cyp/total_cyp\n",
    "        Cq_freq = 1-Cp_freq\n",
    "\n",
    "        Gp_freq = called_gam/total_gam\n",
    "        Gq_freq = 1- Gp_freq\n",
    "      \n",
    "        PQ2_cyp = 2*Cp_freq*Cq_freq #heterozygosity (2pq) for each subpop\n",
    "        PQ2_gam = 2*Gp_freq*Gq_freq #ex 2 * (3/11) *(11-3/10)\n",
    "\n",
    "        HS = (PQ2_cyp + PQ2_gam)/2 # average of these subpopulation heterozygosities\n",
    "        ave_p = (Cp_freq+Gp_freq)/2\n",
    "        ave_q = (Cq_freq+Gq_freq)/2\n",
    "        HT = 2*ave_p*ave_q\n",
    "        if HT != 0:\n",
    "            FST = ((HT-HS)/HT)\n",
    "            fst_dict[key] = FST\n",
    "        else:\n",
    "            fst_dict[key] = 0\n",
    "    return (fst_dict)\n",
    "\n",
    "def print_Fst(main_file, main_file_fst,header, fst_dict):\n",
    "    f= open(main_file)\n",
    "    new = open(main_file_fst, 'w')\n",
    "    header = ['uniqueID'] + header\n",
    "    header = header +['FST','\\n']\n",
    "    new.write('\\t'.join(header))\n",
    "    for line in f:\n",
    "        for key,value in fst_dict.items():\n",
    "            if key in line:\n",
    "                value = (str.format('{0:.3f}', value))\n",
    "                line= line.strip()\n",
    "                new.write(line + '\\t' +value + '\\n')\n",
    "    f.close()"
   ]
  },
  {
   "cell_type": "code",
   "execution_count": null,
   "metadata": {
    "collapsed": true
   },
   "outputs": [],
   "source": [
    "import os\n",
    "print (os.listdir('/home/everitt/CNV/cyp_genomes/'))\n",
    "print (os.listdir('/home/everitt/CNV/gambiae_genomes/'))"
   ]
  },
  {
   "cell_type": "code",
   "execution_count": 55,
   "metadata": {
    "collapsed": false
   },
   "outputs": [
    {
     "name": "stdout",
     "output_type": "stream",
     "text": [
      "done\n"
     ]
    }
   ],
   "source": [
    "#ALL CYP\n",
    "intersect_file = '/home/everitt/CNV/cyp_genomes/CNVnator/004_C_intersect'\n",
    "header = ['chr','start','stop','02_SEL80.bam','10_SEL125.bam','12_SEL9.bam',\\\n",
    "        '10_SEL129.bam','04_SEL50.bam','04_SEL1.bam','10_SEL190.bam',\\\n",
    "        '02_SEL84.bam','12_SEL3.bam','12_SEL13.bam','10_SEL132.bam','12_SEL63.bam',\\\n",
    "        '04_SEL18.bam','04_SEL20.bam','10_SEL124.bam','04_SEL14.bam','02_SEL85.bam',\\\n",
    "        '04_SEL91.bam','10_SEL134.bam','04_SEL84.bam','10_SEL160.bam']\n",
    "main_file = '/home/everitt/CNV/cyp_genomes/CNVnator/005_C_complete'\n",
    "total_pre = 10 #in header\n",
    "total_post = 11 #in header\n",
    "main_file_fst ='/home/everitt/CNV/cyp_genomes/CNVnator/006_C_Fst'\n",
    "\n",
    "\n",
    "index= make_file(intersect_file, header, main_file)\n",
    "fst_dict = find_pre_v_post_Fst(index,total_pre,total_post)\n",
    "print_Fst(main_file, main_file_fst, header, fst_dict)\n",
    "print ('done')"
   ]
  },
  {
   "cell_type": "code",
   "execution_count": 65,
   "metadata": {
    "collapsed": false
   },
   "outputs": [
    {
     "name": "stdout",
     "output_type": "stream",
     "text": [
      "done\n"
     ]
    }
   ],
   "source": [
    "#CYP vs Gambiae\n",
    "intersect_file = '/home/everitt/CNV/gambiae_genomes/CNVnator/004_CG_intersect'\n",
    "header = ['chr','start','stop','02_SEL80.bam','10_SEL125.bam','12_SEL9.bam',\\\n",
    "        '10_SEL129.bam','04_SEL50.bam','04_SEL1.bam','10_SEL190.bam',\\\n",
    "        '02_SEL84.bam','12_SEL3.bam','12_SEL13.bam','10_SEL132.bam','12_SEL63.bam',\\\n",
    "        '04_SEL18.bam','04_SEL20.bam','10_SEL124.bam','04_SEL14.bam','02_SEL85.bam',\\\n",
    "        '04_SEL91.bam','10_SEL134.bam','04_SEL84.bam','10_SEL160.bam','2012KELA210.bam',\\\n",
    "        '2012KELA468.bam','2012KELA233.bam', '2012KELA409.bam', '2012KELA285.bam', \\\n",
    "        '2012KELA228.bam', '2012KELA812.bam', '2012KELA321.bam', \\\n",
    "        '2012KELA334.bam', '2012KELA234.bam', '2012KELA348.bam']\n",
    "main_file = '/home/everitt/CNV/gambiae_genomes/CNVnator/005_CG_complete'\n",
    "total_cyp = 21 #in header\n",
    "total_gam = 11 #in header\n",
    "main_file_fst ='/home/everitt/CNV/gambiae_genomes/CNVnator/006_CG_Fst'\n",
    "\n",
    "\n",
    "index= make_file(intersect_file, header, main_file)\n",
    "fst_dict = find_cyp_v_gambiae_FST(index,total_cyp,total_gam)\n",
    "print_Fst(main_file, main_file_fst, header, fst_dict)\n",
    "print ('done')"
   ]
  },
  {
   "cell_type": "code",
   "execution_count": 3,
   "metadata": {
    "collapsed": false
   },
   "outputs": [
    {
     "name": "stdout",
     "output_type": "stream",
     "text": [
      "done\n"
     ]
    }
   ],
   "source": [
    "#Post CYP vs Gambiae\n",
    "intersect_file = '/home/everitt/CNV/gambiae_genomes/CNVnator/004_postCG_intersect'\n",
    "header = ['chr','start','stop','10_SEL125.bam','12_SEL9.bam','10_SEL129.bam','10_SEL190.bam',\\\n",
    "         '12_SEL3.bam','12_SEL13.bam','10_SEL132.bam','12_SEL63.bam','10_SEL124.bam',\\\n",
    "         '10_SEL134.bam','10_SEL160.bam','2012KELA210.bam','2012KELA468.bam','2012KELA233.bam',\\\n",
    "         '2012KELA409.bam', '2012KELA285.bam','2012KELA228.bam', '2012KELA812.bam', \\\n",
    "         '2012KELA321.bam','2012KELA334.bam', '2012KELA234.bam', '2012KELA348.bam']\n",
    "main_file = '/home/everitt/CNV/gambiae_genomes/CNVnator/005_postCG_complete'\n",
    "total_cyp = 11 #in header\n",
    "total_gam = 11 #in header\n",
    "main_file_fst ='/home/everitt/CNV/gambiae_genomes/CNVnator/006_postCG_Fst'\n",
    "\n",
    "\n",
    "index= make_file(intersect_file, header, main_file)\n",
    "fst_dict = find_cyp_v_gambiae_FST(index,total_cyp,total_gam)\n",
    "print_Fst(main_file, main_file_fst, header, fst_dict)\n",
    "print ('done')"
   ]
  },
  {
   "cell_type": "code",
   "execution_count": 13,
   "metadata": {
    "collapsed": false
   },
   "outputs": [
    {
     "data": {
      "image/png": "[encoded data removed]",
      "text/plain": [
       "<matplotlib.figure.Figure at 0x7f16349966d8>"
      ]
     },
     "metadata": {},
     "output_type": "display_data"
    },
    {
     "name": "stdout",
     "output_type": "stream",
     "text": [
      "0.110901076309\n",
      "1275\n",
      "54\n"
     ]
    }
   ],
   "source": [
    "import matplotlib.pyplot as plt\n",
    "import numpy\n",
    "\n",
    "%matplotlib inline\n",
    "plt.rcParams['figure.figsize'] = (40.0, 20.0)\n",
    "\n",
    "Fst = []\n",
    "for line in open('/home/everitt/CNV/gambiae_genomes/CNVnator/006_CG_Fst','r'):\n",
    "#for line in open('/home/everitt/CNV/cyp_genomes/CNVnator/006_C_Fst','r'):\n",
    "#for line in open('/home/everitt/CNV/gambiae_genomes/CNVnator/006_postCG_Fst','r'):\n",
    "    if 'uniqueID' not in line:\n",
    "        i= line.strip().split('\\t')\n",
    "        for j in i[-1:]:\n",
    "            Fst.append(float(j))\n",
    "\n",
    "plt.hist(Fst, bins=10)\n",
    "#plt.title(\"Gambiae vs Coluzzii FST\")\n",
    "#plt.title(\"Pre06-cyp vs Post-cyp FST\")\n",
    "plt.title(\"Gambiae vs Post 2006 Coluzzii FST\")\n",
    "plt.xlabel(\"Value\")\n",
    "plt.ylabel(\"Frequency\")\n",
    "plt.show()\n",
    "\n",
    "mean = (numpy.std(Fst))\n",
    "print (mean)\n",
    "outliers= []\n",
    "twoSD = (2*(numpy.std(Fst)))\n",
    "for i in Fst:\n",
    "    if i > (twoSD + mean) or i < (mean - twoSD):\n",
    "        outliers.append(i)\n",
    "print (len(Fst))\n",
    "print (len(outliers))"
   ]
  },
  {
   "cell_type": "code",
   "execution_count": null,
   "metadata": {
    "collapsed": true
   },
   "outputs": [],
   "source": []
  },
  {
   "cell_type": "code",
   "execution_count": 63,
   "metadata": {
    "collapsed": false
   },
   "outputs": [],
   "source": []
  },
  {
   "cell_type": "markdown",
   "metadata": {},
   "source": [
    "weighted mean of all PRE and Post FST"
   ]
  }
 ],
 "metadata": {
  "kernelspec": {
   "display_name": "Python 3",
   "language": "python",
   "name": "python3"
  },
  "language_info": {
   "codemirror_mode": {
    "name": "ipython",
    "version": 3
   },
   "file_extension": ".py",
   "mimetype": "text/x-python",
   "name": "python",
   "nbconvert_exporter": "python",
   "pygments_lexer": "ipython3",
   "version": "3.5.1"
  }
 },
 "nbformat": 4,
 "nbformat_minor": 0
}
