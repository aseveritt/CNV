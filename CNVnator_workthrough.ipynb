{
 "cells": [
  {
   "cell_type": "markdown",
   "metadata": {},
   "source": [
    "Initial workflow through for CNVnator.  \n",
    "- Started 8/2/16\n",
    "- Amanda Everitt\n",
    "- cwd= /home/everitt/CNV/CNVnator"
   ]
  },
  {
   "cell_type": "code",
   "execution_count": null,
   "metadata": {
    "collapsed": false
   },
   "outputs": [],
   "source": [
    "#RUN CNVnator\n",
    "%%bash\n",
    "#for i in `ls *.bam`\n",
    "for i in `ls CVG*`\n",
    "    do\n",
    "    echo $i\n",
    "    /home/travc/bin/run_cnvnator.sh -root cyp.root -tree $i\n",
    "    /home/travc/bin/run_cnvnator.sh -root cyp.root -his 500 -d colony_CNV/   #histogram bin size 500\n",
    "    /home/travc/bin/run_cnvnator.sh -root cyp.root -stat 500                #statistics(pval)  bin size 500\n",
    "    /home/travc/bin/run_cnvnator.sh -root cyp.root -partition 500           #partitions the chromosomes/scaffolds into long regions bin size 500\n",
    "    /home/travc/bin/run_cnvnator.sh -root cyp.root -call 500 > $i.cnv_output      #finds potential CNVs bin size 500\n",
    "    done"
   ]
  },
  {
   "cell_type": "code",
   "execution_count": 15,
   "metadata": {
    "collapsed": false
   },
   "outputs": [],
   "source": [
    "#Keeps calls which are 1.mapped 2. significant 3. larger than 1KB\n",
    "files = ['CMR4MOPTIA0001_realigned.bam.cnv_output','CVGLCYP1A0001_realigned.bam.cnv_output']\n",
    "for i in files:\n",
    "    with open(i,'r') as f:\n",
    "        with open ('{}.filtered'.format(i),'w') as new:\n",
    "            with open('{}.filtered.bed'.format(i),'w') as bed:\n",
    "                for line in f:\n",
    "                    parts= line.split()\n",
    "                    if 'UNKN' not in parts[1] or 'Y_unplaced' not in parts[1]: #if mapped\n",
    "                        if float(parts[3]) < 0.05: # if evalue is less than 0.05 (https://www.biostars.org/p/194936/)\n",
    "                            pos = parts[1].split(':')\n",
    "                            coordinates= (pos[1]).split('-')\n",
    "                            bp = int(coordinates[1])- int(coordinates[0])\n",
    "                            if bp >= 1000:\n",
    "                                new.write(line)\n",
    "                                bed.write(str((pos[0][-2:])) + '\\t' + coordinates[0] + '\\t' + coordinates[1] + '\\n')"
   ]
  },
  {
   "cell_type": "code",
   "execution_count": 63,
   "metadata": {
    "collapsed": false
   },
   "outputs": [],
   "source": [
    "#Find intersection\n",
    "%%bash\n",
    "/home/everitt/bin/bedtools2/bin/intersectBed -r -f 0.5 -a CMR4MOPTIA0001_realigned.bam.cnv_output.filtered.bed -b CVGLCYP1A0001_realigned.bam.cnv_output.filtered.bed > similarities"
   ]
  },
  {
   "cell_type": "code",
   "execution_count": 17,
   "metadata": {
    "collapsed": false
   },
   "outputs": [
    {
     "name": "stdout",
     "output_type": "stream",
     "text": [
      "242 similarities\n",
      "379 CMR4MOPTIA0001_realigned.bam.cnv_output.filtered.bed\n",
      "401 CVGLCYP1A0001_realigned.bam.cnv_output.filtered.bed\n",
      "2L\t21001\t24000\n",
      "2L\t27501\t29500\n",
      "2L\t250501\t254000\n",
      "2L\t260501\t267500\n",
      "2L\t283501\t285500\n",
      "2L\t373001\t383000\n",
      "2L\t551501\t554000\n",
      "2L\t603501\t606500\n",
      "2L\t837001\t847000\n",
      "2L\t960001\t967500\n"
     ]
    }
   ],
   "source": [
    "%%bash\n",
    "wc -l CMR4MOPTIA0001_realigned.bam.cnv_output.filtered.bed\n",
    "wc -l CVGLCYP1A0001_realigned.bam.cnv_output.filtered.bed\n",
    "wc -l similarities # similarites between mopti and cyp\n",
    "head similarities"
   ]
  },
  {
   "cell_type": "code",
   "execution_count": null,
   "metadata": {
    "collapsed": true
   },
   "outputs": [],
   "source": []
  }
 ],
 "metadata": {
  "kernelspec": {
   "display_name": "Python 3",
   "language": "python",
   "name": "python3"
  },
  "language_info": {
   "codemirror_mode": {
    "name": "ipython",
    "version": 3
   },
   "file_extension": ".py",
   "mimetype": "text/x-python",
   "name": "python",
   "nbconvert_exporter": "python",
   "pygments_lexer": "ipython3",
   "version": "3.5.1"
  }
 },
 "nbformat": 4,
 "nbformat_minor": 0
}
