{
 "cells": [
  {
   "cell_type": "markdown",
   "metadata": {},
   "source": [
    "Initial workflow through for Lumpy.\n",
    "- Started 8/2/16\n",
    "- Amanda Everitt\n",
    "- cwd= /home/everitt/CNV/CNVnator"
   ]
  },
  {
   "cell_type": "code",
   "execution_count": null,
   "metadata": {
    "collapsed": true
   },
   "outputs": [],
   "source": [
    "#insert command to run lumpy"
   ]
  },
  {
   "cell_type": "code",
   "execution_count": 19,
   "metadata": {
    "collapsed": false
   },
   "outputs": [],
   "source": [
    "#Keep only calls longer than 1KB and supported by at least 10 reads\n",
    "\n",
    "with open(\"cyp1_mopti\",'r') as f:\n",
    "    with open(\"cyp1_mopti.filtered\", 'w') as new:\n",
    "        with open (\"cyp1_mopti.bed\",\"w\") as bed:\n",
    "            for line in f:\n",
    "                if line[0] !=\"#\":\n",
    "                    if 'SVLEN' in line:\n",
    "                        i=line.strip().split()\n",
    "                        info = i[7].split(\";\")\n",
    "                        length = (info[2].split('='))[1]\n",
    "                        support = (i[9].split(':'))[1]\n",
    "                        if abs(int(length)) > 1000:\n",
    "                            stop = abs(int(length)) + int(i[1])\n",
    "                            if int(support) > 10:\n",
    "                                new.write(line)\n",
    "                                bed.write(str(i[0]) + '\\t' + str(i[1]) + '\\t' + str(stop) + '\\n')"
   ]
  },
  {
   "cell_type": "code",
   "execution_count": 22,
   "metadata": {
    "collapsed": false
   },
   "outputs": [
    {
     "name": "stderr",
     "output_type": "stream",
     "text": [
      "bash: line 1: /home/everitt/bin/bedtools2/bedtools2: No such file or directory\n"
     ]
    }
   ],
   "source": [
    "%%bash\n",
    "/home/everitt/bin/bedtools2/bin/intersectBed -r -f 0.5 -a ./CNVnator/similarities -b cyp1_mopti.bed > lumpy_v_CNVnator"
   ]
  },
  {
   "cell_type": "code",
   "execution_count": 23,
   "metadata": {
    "collapsed": false
   },
   "outputs": [
    {
     "name": "stdout",
     "output_type": "stream",
     "text": [
      "4476 cyp1_mopti.bed\n",
      "1648 lumpy_v_CNVnator\n",
      "2L\t21001\t24000\n",
      "2L\t27501\t29500\n",
      "2L\t250501\t254000\n",
      "2L\t250501\t254000\n",
      "2L\t250501\t254000\n",
      "2L\t250501\t254000\n",
      "2L\t260501\t267500\n",
      "2L\t260501\t267500\n",
      "2L\t260501\t267500\n",
      "2L\t260501\t267500\n"
     ]
    }
   ],
   "source": [
    "%%bash\n",
    "wc -l cyp1_mopti.bed\n",
    "wc -l lumpy_v_CNVnator\n",
    "head lumpy_v_CNVnator"
   ]
  },
  {
   "cell_type": "code",
   "execution_count": null,
   "metadata": {
    "collapsed": true
   },
   "outputs": [],
   "source": []
  }
 ],
 "metadata": {
  "kernelspec": {
   "display_name": "Python 3",
   "language": "python",
   "name": "python3"
  },
  "language_info": {
   "codemirror_mode": {
    "name": "ipython",
    "version": 3
   },
   "file_extension": ".py",
   "mimetype": "text/x-python",
   "name": "python",
   "nbconvert_exporter": "python",
   "pygments_lexer": "ipython3",
   "version": "3.5.1"
  }
 },
 "nbformat": 4,
 "nbformat_minor": 0
}
